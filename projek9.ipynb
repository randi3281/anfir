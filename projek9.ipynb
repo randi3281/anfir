{
 "cells": [
  {
   "cell_type": "markdown",
   "metadata": {},
   "source": [
    "# Forecasting"
   ]
  },
  {
   "cell_type": "code",
   "execution_count": 1,
   "metadata": {
    "vscode": {
     "languageId": "r"
    }
   },
   "outputs": [
    {
     "name": "stderr",
     "output_type": "stream",
     "text": [
      "Installing package into 'C:/Users/anfiniti/AppData/Local/R/win-library/4.4'\n",
      "(as 'lib' is unspecified)\n",
      "\n",
      "also installing the dependencies 'farver', 'labeling', 'munsell', 'RColorBrewer', 'viridisLite', 'gtable', 'isoband', 'scales', 'xts', 'TTR', 'colorspace', 'fracdiff', 'generics', 'ggplot2', 'timeDate', 'urca', 'zoo', 'RcppArmadillo', 'quadprog', 'quantmod', 'forecast', 'fma', 'expsmooth', 'lmtest', 'tseries'\n",
      "\n",
      "\n"
     ]
    },
    {
     "name": "stdout",
     "output_type": "stream",
     "text": [
      "package 'farver' successfully unpacked and MD5 sums checked\n",
      "package 'labeling' successfully unpacked and MD5 sums checked\n",
      "package 'munsell' successfully unpacked and MD5 sums checked\n",
      "package 'RColorBrewer' successfully unpacked and MD5 sums checked\n",
      "package 'viridisLite' successfully unpacked and MD5 sums checked\n",
      "package 'gtable' successfully unpacked and MD5 sums checked\n",
      "package 'isoband' successfully unpacked and MD5 sums checked\n",
      "package 'scales' successfully unpacked and MD5 sums checked\n",
      "package 'xts' successfully unpacked and MD5 sums checked\n",
      "package 'TTR' successfully unpacked and MD5 sums checked\n",
      "package 'colorspace' successfully unpacked and MD5 sums checked\n",
      "package 'fracdiff' successfully unpacked and MD5 sums checked\n",
      "package 'generics' successfully unpacked and MD5 sums checked\n",
      "package 'ggplot2' successfully unpacked and MD5 sums checked\n",
      "package 'timeDate' successfully unpacked and MD5 sums checked\n",
      "package 'urca' successfully unpacked and MD5 sums checked\n",
      "package 'zoo' successfully unpacked and MD5 sums checked\n",
      "package 'RcppArmadillo' successfully unpacked and MD5 sums checked\n",
      "package 'quadprog' successfully unpacked and MD5 sums checked\n",
      "package 'quantmod' successfully unpacked and MD5 sums checked\n",
      "package 'forecast' successfully unpacked and MD5 sums checked\n",
      "package 'fma' successfully unpacked and MD5 sums checked\n",
      "package 'expsmooth' successfully unpacked and MD5 sums checked\n",
      "package 'lmtest' successfully unpacked and MD5 sums checked\n",
      "package 'tseries' successfully unpacked and MD5 sums checked\n",
      "package 'fpp' successfully unpacked and MD5 sums checked\n",
      "\n",
      "The downloaded binary packages are in\n",
      "\tC:\\Users\\anfiniti\\AppData\\Local\\Temp\\RtmpKAHXzN\\downloaded_packages\n"
     ]
    },
    {
     "name": "stderr",
     "output_type": "stream",
     "text": [
      "Installing package into 'C:/Users/anfiniti/AppData/Local/R/win-library/4.4'\n",
      "(as 'lib' is unspecified)\n",
      "\n",
      "also installing the dependency 'tidyselect'\n",
      "\n",
      "\n"
     ]
    },
    {
     "name": "stdout",
     "output_type": "stream",
     "text": [
      "package 'tidyselect' successfully unpacked and MD5 sums checked\n",
      "package 'dplyr' successfully unpacked and MD5 sums checked\n",
      "\n",
      "The downloaded binary packages are in\n",
      "\tC:\\Users\\anfiniti\\AppData\\Local\\Temp\\RtmpKAHXzN\\downloaded_packages\n"
     ]
    }
   ],
   "source": [
    "install.packages('fpp')\n",
    "install.packages('dplyr')"
   ]
  },
  {
   "cell_type": "code",
   "execution_count": 5,
   "metadata": {
    "vscode": {
     "languageId": "r"
    }
   },
   "outputs": [
    {
     "name": "stderr",
     "output_type": "stream",
     "text": [
      "Installing package into 'C:/Users/anfiniti/AppData/Local/R/win-library/4.4'\n",
      "(as 'lib' is unspecified)\n",
      "\n"
     ]
    },
    {
     "name": "stderr",
     "output_type": "stream",
     "text": [
      "also installing the dependency 'timechange'\n",
      "\n",
      "\n"
     ]
    },
    {
     "name": "stdout",
     "output_type": "stream",
     "text": [
      "package 'timechange' successfully unpacked and MD5 sums checked\n",
      "package 'lubridate' successfully unpacked and MD5 sums checked\n",
      "\n",
      "The downloaded binary packages are in\n",
      "\tC:\\Users\\anfiniti\\AppData\\Local\\Temp\\RtmpKAHXzN\\downloaded_packages\n"
     ]
    },
    {
     "name": "stderr",
     "output_type": "stream",
     "text": [
      "\n",
      "Attaching package: 'lubridate'\n",
      "\n",
      "\n",
      "The following objects are masked from 'package:base':\n",
      "\n",
      "    date, intersect, setdiff, union\n",
      "\n",
      "\n",
      "Loading required package: forecast\n",
      "\n",
      "Registered S3 method overwritten by 'quantmod':\n",
      "  method            from\n",
      "  as.zoo.data.frame zoo \n",
      "\n",
      "Loading required package: fma\n",
      "\n",
      "Loading required package: expsmooth\n",
      "\n",
      "Loading required package: lmtest\n",
      "\n",
      "Loading required package: zoo\n",
      "\n",
      "\n",
      "Attaching package: 'zoo'\n",
      "\n",
      "\n",
      "The following objects are masked from 'package:base':\n",
      "\n",
      "    as.Date, as.Date.numeric\n",
      "\n",
      "\n",
      "Loading required package: tseries\n",
      "\n"
     ]
    },
    {
     "data": {
      "text/html": [
       "<table class=\"dataframe\">\n",
       "<caption>A data.frame: 5 × 67</caption>\n",
       "<thead>\n",
       "\t<tr><th></th><th scope=col>iso_code</th><th scope=col>continent</th><th scope=col>location</th><th scope=col>date</th><th scope=col>total_cases</th><th scope=col>new_cases</th><th scope=col>new_cases_smoothed</th><th scope=col>total_deaths</th><th scope=col>new_deaths</th><th scope=col>new_deaths_smoothed</th><th scope=col>⋯</th><th scope=col>male_smokers</th><th scope=col>handwashing_facilities</th><th scope=col>hospital_beds_per_thousand</th><th scope=col>life_expectancy</th><th scope=col>human_development_index</th><th scope=col>population</th><th scope=col>excess_mortality_cumulative_absolute</th><th scope=col>excess_mortality_cumulative</th><th scope=col>excess_mortality</th><th scope=col>excess_mortality_cumulative_per_million</th></tr>\n",
       "\t<tr><th></th><th scope=col>&lt;chr&gt;</th><th scope=col>&lt;chr&gt;</th><th scope=col>&lt;chr&gt;</th><th scope=col>&lt;chr&gt;</th><th scope=col>&lt;int&gt;</th><th scope=col>&lt;int&gt;</th><th scope=col>&lt;dbl&gt;</th><th scope=col>&lt;int&gt;</th><th scope=col>&lt;int&gt;</th><th scope=col>&lt;dbl&gt;</th><th scope=col>⋯</th><th scope=col>&lt;dbl&gt;</th><th scope=col>&lt;dbl&gt;</th><th scope=col>&lt;dbl&gt;</th><th scope=col>&lt;dbl&gt;</th><th scope=col>&lt;dbl&gt;</th><th scope=col>&lt;dbl&gt;</th><th scope=col>&lt;dbl&gt;</th><th scope=col>&lt;dbl&gt;</th><th scope=col>&lt;dbl&gt;</th><th scope=col>&lt;dbl&gt;</th></tr>\n",
       "</thead>\n",
       "<tbody>\n",
       "\t<tr><th scope=row>1</th><td>AFG</td><td>Asia</td><td>Afghanistan</td><td>2020-01-05</td><td>0</td><td>0</td><td>NA</td><td>0</td><td>0</td><td>NA</td><td>⋯</td><td>NA</td><td>37.746</td><td>0.5</td><td>64.83</td><td>0.511</td><td>41128772</td><td>NA</td><td>NA</td><td>NA</td><td>NA</td></tr>\n",
       "\t<tr><th scope=row>2</th><td>AFG</td><td>Asia</td><td>Afghanistan</td><td>2020-01-06</td><td>0</td><td>0</td><td>NA</td><td>0</td><td>0</td><td>NA</td><td>⋯</td><td>NA</td><td>37.746</td><td>0.5</td><td>64.83</td><td>0.511</td><td>41128772</td><td>NA</td><td>NA</td><td>NA</td><td>NA</td></tr>\n",
       "\t<tr><th scope=row>3</th><td>AFG</td><td>Asia</td><td>Afghanistan</td><td>2020-01-07</td><td>0</td><td>0</td><td>NA</td><td>0</td><td>0</td><td>NA</td><td>⋯</td><td>NA</td><td>37.746</td><td>0.5</td><td>64.83</td><td>0.511</td><td>41128772</td><td>NA</td><td>NA</td><td>NA</td><td>NA</td></tr>\n",
       "\t<tr><th scope=row>4</th><td>AFG</td><td>Asia</td><td>Afghanistan</td><td>2020-01-08</td><td>0</td><td>0</td><td>NA</td><td>0</td><td>0</td><td>NA</td><td>⋯</td><td>NA</td><td>37.746</td><td>0.5</td><td>64.83</td><td>0.511</td><td>41128772</td><td>NA</td><td>NA</td><td>NA</td><td>NA</td></tr>\n",
       "\t<tr><th scope=row>5</th><td>AFG</td><td>Asia</td><td>Afghanistan</td><td>2020-01-09</td><td>0</td><td>0</td><td>NA</td><td>0</td><td>0</td><td>NA</td><td>⋯</td><td>NA</td><td>37.746</td><td>0.5</td><td>64.83</td><td>0.511</td><td>41128772</td><td>NA</td><td>NA</td><td>NA</td><td>NA</td></tr>\n",
       "</tbody>\n",
       "</table>\n"
      ],
      "text/latex": [
       "A data.frame: 5 × 67\n",
       "\\begin{tabular}{r|lllllllllllllllllllll}\n",
       "  & iso\\_code & continent & location & date & total\\_cases & new\\_cases & new\\_cases\\_smoothed & total\\_deaths & new\\_deaths & new\\_deaths\\_smoothed & ⋯ & male\\_smokers & handwashing\\_facilities & hospital\\_beds\\_per\\_thousand & life\\_expectancy & human\\_development\\_index & population & excess\\_mortality\\_cumulative\\_absolute & excess\\_mortality\\_cumulative & excess\\_mortality & excess\\_mortality\\_cumulative\\_per\\_million\\\\\n",
       "  & <chr> & <chr> & <chr> & <chr> & <int> & <int> & <dbl> & <int> & <int> & <dbl> & ⋯ & <dbl> & <dbl> & <dbl> & <dbl> & <dbl> & <dbl> & <dbl> & <dbl> & <dbl> & <dbl>\\\\\n",
       "\\hline\n",
       "\t1 & AFG & Asia & Afghanistan & 2020-01-05 & 0 & 0 & NA & 0 & 0 & NA & ⋯ & NA & 37.746 & 0.5 & 64.83 & 0.511 & 41128772 & NA & NA & NA & NA\\\\\n",
       "\t2 & AFG & Asia & Afghanistan & 2020-01-06 & 0 & 0 & NA & 0 & 0 & NA & ⋯ & NA & 37.746 & 0.5 & 64.83 & 0.511 & 41128772 & NA & NA & NA & NA\\\\\n",
       "\t3 & AFG & Asia & Afghanistan & 2020-01-07 & 0 & 0 & NA & 0 & 0 & NA & ⋯ & NA & 37.746 & 0.5 & 64.83 & 0.511 & 41128772 & NA & NA & NA & NA\\\\\n",
       "\t4 & AFG & Asia & Afghanistan & 2020-01-08 & 0 & 0 & NA & 0 & 0 & NA & ⋯ & NA & 37.746 & 0.5 & 64.83 & 0.511 & 41128772 & NA & NA & NA & NA\\\\\n",
       "\t5 & AFG & Asia & Afghanistan & 2020-01-09 & 0 & 0 & NA & 0 & 0 & NA & ⋯ & NA & 37.746 & 0.5 & 64.83 & 0.511 & 41128772 & NA & NA & NA & NA\\\\\n",
       "\\end{tabular}\n"
      ],
      "text/markdown": [
       "\n",
       "A data.frame: 5 × 67\n",
       "\n",
       "| <!--/--> | iso_code &lt;chr&gt; | continent &lt;chr&gt; | location &lt;chr&gt; | date &lt;chr&gt; | total_cases &lt;int&gt; | new_cases &lt;int&gt; | new_cases_smoothed &lt;dbl&gt; | total_deaths &lt;int&gt; | new_deaths &lt;int&gt; | new_deaths_smoothed &lt;dbl&gt; | ⋯ ⋯ | male_smokers &lt;dbl&gt; | handwashing_facilities &lt;dbl&gt; | hospital_beds_per_thousand &lt;dbl&gt; | life_expectancy &lt;dbl&gt; | human_development_index &lt;dbl&gt; | population &lt;dbl&gt; | excess_mortality_cumulative_absolute &lt;dbl&gt; | excess_mortality_cumulative &lt;dbl&gt; | excess_mortality &lt;dbl&gt; | excess_mortality_cumulative_per_million &lt;dbl&gt; |\n",
       "|---|---|---|---|---|---|---|---|---|---|---|---|---|---|---|---|---|---|---|---|---|---|\n",
       "| 1 | AFG | Asia | Afghanistan | 2020-01-05 | 0 | 0 | NA | 0 | 0 | NA | ⋯ | NA | 37.746 | 0.5 | 64.83 | 0.511 | 41128772 | NA | NA | NA | NA |\n",
       "| 2 | AFG | Asia | Afghanistan | 2020-01-06 | 0 | 0 | NA | 0 | 0 | NA | ⋯ | NA | 37.746 | 0.5 | 64.83 | 0.511 | 41128772 | NA | NA | NA | NA |\n",
       "| 3 | AFG | Asia | Afghanistan | 2020-01-07 | 0 | 0 | NA | 0 | 0 | NA | ⋯ | NA | 37.746 | 0.5 | 64.83 | 0.511 | 41128772 | NA | NA | NA | NA |\n",
       "| 4 | AFG | Asia | Afghanistan | 2020-01-08 | 0 | 0 | NA | 0 | 0 | NA | ⋯ | NA | 37.746 | 0.5 | 64.83 | 0.511 | 41128772 | NA | NA | NA | NA |\n",
       "| 5 | AFG | Asia | Afghanistan | 2020-01-09 | 0 | 0 | NA | 0 | 0 | NA | ⋯ | NA | 37.746 | 0.5 | 64.83 | 0.511 | 41128772 | NA | NA | NA | NA |\n",
       "\n"
      ],
      "text/plain": [
       "  iso_code continent location    date       total_cases new_cases\n",
       "1 AFG      Asia      Afghanistan 2020-01-05 0           0        \n",
       "2 AFG      Asia      Afghanistan 2020-01-06 0           0        \n",
       "3 AFG      Asia      Afghanistan 2020-01-07 0           0        \n",
       "4 AFG      Asia      Afghanistan 2020-01-08 0           0        \n",
       "5 AFG      Asia      Afghanistan 2020-01-09 0           0        \n",
       "  new_cases_smoothed total_deaths new_deaths new_deaths_smoothed ⋯ male_smokers\n",
       "1 NA                 0            0          NA                  ⋯ NA          \n",
       "2 NA                 0            0          NA                  ⋯ NA          \n",
       "3 NA                 0            0          NA                  ⋯ NA          \n",
       "4 NA                 0            0          NA                  ⋯ NA          \n",
       "5 NA                 0            0          NA                  ⋯ NA          \n",
       "  handwashing_facilities hospital_beds_per_thousand life_expectancy\n",
       "1 37.746                 0.5                        64.83          \n",
       "2 37.746                 0.5                        64.83          \n",
       "3 37.746                 0.5                        64.83          \n",
       "4 37.746                 0.5                        64.83          \n",
       "5 37.746                 0.5                        64.83          \n",
       "  human_development_index population excess_mortality_cumulative_absolute\n",
       "1 0.511                   41128772   NA                                  \n",
       "2 0.511                   41128772   NA                                  \n",
       "3 0.511                   41128772   NA                                  \n",
       "4 0.511                   41128772   NA                                  \n",
       "5 0.511                   41128772   NA                                  \n",
       "  excess_mortality_cumulative excess_mortality\n",
       "1 NA                          NA              \n",
       "2 NA                          NA              \n",
       "3 NA                          NA              \n",
       "4 NA                          NA              \n",
       "5 NA                          NA              \n",
       "  excess_mortality_cumulative_per_million\n",
       "1 NA                                     \n",
       "2 NA                                     \n",
       "3 NA                                     \n",
       "4 NA                                     \n",
       "5 NA                                     "
      ]
     },
     "metadata": {},
     "output_type": "display_data"
    },
    {
     "data": {
      "text/html": [
       "<table class=\"dataframe\">\n",
       "<caption>A data.frame: 5 × 3</caption>\n",
       "<thead>\n",
       "\t<tr><th></th><th scope=col>continent</th><th scope=col>date</th><th scope=col>new_cases</th></tr>\n",
       "\t<tr><th></th><th scope=col>&lt;chr&gt;</th><th scope=col>&lt;chr&gt;</th><th scope=col>&lt;int&gt;</th></tr>\n",
       "</thead>\n",
       "<tbody>\n",
       "\t<tr><th scope=row>1</th><td>Asia</td><td>2020-01-05</td><td>0</td></tr>\n",
       "\t<tr><th scope=row>2</th><td>Asia</td><td>2020-01-06</td><td>0</td></tr>\n",
       "\t<tr><th scope=row>3</th><td>Asia</td><td>2020-01-07</td><td>0</td></tr>\n",
       "\t<tr><th scope=row>4</th><td>Asia</td><td>2020-01-08</td><td>0</td></tr>\n",
       "\t<tr><th scope=row>5</th><td>Asia</td><td>2020-01-09</td><td>0</td></tr>\n",
       "</tbody>\n",
       "</table>\n"
      ],
      "text/latex": [
       "A data.frame: 5 × 3\n",
       "\\begin{tabular}{r|lll}\n",
       "  & continent & date & new\\_cases\\\\\n",
       "  & <chr> & <chr> & <int>\\\\\n",
       "\\hline\n",
       "\t1 & Asia & 2020-01-05 & 0\\\\\n",
       "\t2 & Asia & 2020-01-06 & 0\\\\\n",
       "\t3 & Asia & 2020-01-07 & 0\\\\\n",
       "\t4 & Asia & 2020-01-08 & 0\\\\\n",
       "\t5 & Asia & 2020-01-09 & 0\\\\\n",
       "\\end{tabular}\n"
      ],
      "text/markdown": [
       "\n",
       "A data.frame: 5 × 3\n",
       "\n",
       "| <!--/--> | continent &lt;chr&gt; | date &lt;chr&gt; | new_cases &lt;int&gt; |\n",
       "|---|---|---|---|\n",
       "| 1 | Asia | 2020-01-05 | 0 |\n",
       "| 2 | Asia | 2020-01-06 | 0 |\n",
       "| 3 | Asia | 2020-01-07 | 0 |\n",
       "| 4 | Asia | 2020-01-08 | 0 |\n",
       "| 5 | Asia | 2020-01-09 | 0 |\n",
       "\n"
      ],
      "text/plain": [
       "  continent date       new_cases\n",
       "1 Asia      2020-01-05 0        \n",
       "2 Asia      2020-01-06 0        \n",
       "3 Asia      2020-01-07 0        \n",
       "4 Asia      2020-01-08 0        \n",
       "5 Asia      2020-01-09 0        "
      ]
     },
     "metadata": {},
     "output_type": "display_data"
    }
   ],
   "source": [
    "install.packages('lubridate')\n",
    "library(dplyr)\n",
    "library(lubridate)\n",
    "library(fpp)\n",
    "library(dplyr)\n",
    "\n",
    "data_covid <- read.csv('owid-covid-data.csv',sep = ',')\n",
    "head(data_covid,5)\n",
    "\n",
    "data_covid <- data_covid %>% select(continent,date,new_cases)\n",
    "head(data_covid,5)\n"
   ]
  },
  {
   "cell_type": "code",
   "execution_count": 6,
   "metadata": {
    "vscode": {
     "languageId": "r"
    }
   },
   "outputs": [
    {
     "data": {
      "text/html": [
       "<table class=\"dataframe\">\n",
       "<caption>A data.frame: 5 × 5</caption>\n",
       "<thead>\n",
       "\t<tr><th></th><th scope=col>continent</th><th scope=col>date</th><th scope=col>new_cases</th><th scope=col>Bulan</th><th scope=col>Tahun</th></tr>\n",
       "\t<tr><th></th><th scope=col>&lt;chr&gt;</th><th scope=col>&lt;date&gt;</th><th scope=col>&lt;int&gt;</th><th scope=col>&lt;dbl&gt;</th><th scope=col>&lt;dbl&gt;</th></tr>\n",
       "</thead>\n",
       "<tbody>\n",
       "\t<tr><th scope=row>1</th><td>Asia</td><td>2020-01-05</td><td>0</td><td>1</td><td>2020</td></tr>\n",
       "\t<tr><th scope=row>2</th><td>Asia</td><td>2020-01-06</td><td>0</td><td>1</td><td>2020</td></tr>\n",
       "\t<tr><th scope=row>3</th><td>Asia</td><td>2020-01-07</td><td>0</td><td>1</td><td>2020</td></tr>\n",
       "\t<tr><th scope=row>4</th><td>Asia</td><td>2020-01-08</td><td>0</td><td>1</td><td>2020</td></tr>\n",
       "\t<tr><th scope=row>5</th><td>Asia</td><td>2020-01-09</td><td>0</td><td>1</td><td>2020</td></tr>\n",
       "</tbody>\n",
       "</table>\n"
      ],
      "text/latex": [
       "A data.frame: 5 × 5\n",
       "\\begin{tabular}{r|lllll}\n",
       "  & continent & date & new\\_cases & Bulan & Tahun\\\\\n",
       "  & <chr> & <date> & <int> & <dbl> & <dbl>\\\\\n",
       "\\hline\n",
       "\t1 & Asia & 2020-01-05 & 0 & 1 & 2020\\\\\n",
       "\t2 & Asia & 2020-01-06 & 0 & 1 & 2020\\\\\n",
       "\t3 & Asia & 2020-01-07 & 0 & 1 & 2020\\\\\n",
       "\t4 & Asia & 2020-01-08 & 0 & 1 & 2020\\\\\n",
       "\t5 & Asia & 2020-01-09 & 0 & 1 & 2020\\\\\n",
       "\\end{tabular}\n"
      ],
      "text/markdown": [
       "\n",
       "A data.frame: 5 × 5\n",
       "\n",
       "| <!--/--> | continent &lt;chr&gt; | date &lt;date&gt; | new_cases &lt;int&gt; | Bulan &lt;dbl&gt; | Tahun &lt;dbl&gt; |\n",
       "|---|---|---|---|---|---|\n",
       "| 1 | Asia | 2020-01-05 | 0 | 1 | 2020 |\n",
       "| 2 | Asia | 2020-01-06 | 0 | 1 | 2020 |\n",
       "| 3 | Asia | 2020-01-07 | 0 | 1 | 2020 |\n",
       "| 4 | Asia | 2020-01-08 | 0 | 1 | 2020 |\n",
       "| 5 | Asia | 2020-01-09 | 0 | 1 | 2020 |\n",
       "\n"
      ],
      "text/plain": [
       "  continent date       new_cases Bulan Tahun\n",
       "1 Asia      2020-01-05 0         1     2020 \n",
       "2 Asia      2020-01-06 0         1     2020 \n",
       "3 Asia      2020-01-07 0         1     2020 \n",
       "4 Asia      2020-01-08 0         1     2020 \n",
       "5 Asia      2020-01-09 0         1     2020 "
      ]
     },
     "metadata": {},
     "output_type": "display_data"
    }
   ],
   "source": [
    "# Mengubah kolom 'Tanggal' menjadi format Date\n",
    "# (asumsinya format Tanggal adalah 'dd/mm/yyyy')\n",
    "data_covid$date <- as.Date(data_covid$date)\n",
    "data_covid <- data_covid %>%\n",
    "  mutate(date = ymd(date)) # Mengubah format Tanggal ke Date\n",
    "\n",
    "# Menambah kolom 'Bulan' dan 'Tahun'\n",
    "data_covid <- data_covid %>%\n",
    "  mutate(\n",
    "    Bulan = month(date),  # Menambah kolom Bulan\n",
    "    Tahun = year(date)    # Menambah kolom Tahun\n",
    "  )\n",
    "\n",
    "# Melihat hasil\n",
    "head(data_covid, 5)\n"
   ]
  },
  {
   "cell_type": "code",
   "execution_count": null,
   "metadata": {
    "vscode": {
     "languageId": "r"
    }
   },
   "outputs": [
    {
     "name": "stderr",
     "output_type": "stream",
     "text": [
      "\u001b[1m\u001b[22m`summarise()` has grouped output by 'Bulan'. You can override using the\n",
      "`.groups` argument.\n"
     ]
    },
    {
     "data": {
      "text/html": [
       "<table class=\"dataframe\">\n",
       "<caption>A grouped_df: 5 × 3</caption>\n",
       "<thead>\n",
       "\t<tr><th scope=col>Bulan</th><th scope=col>Tahun</th><th scope=col>case_total</th></tr>\n",
       "\t<tr><th scope=col>&lt;dbl&gt;</th><th scope=col>&lt;dbl&gt;</th><th scope=col>&lt;int&gt;</th></tr>\n",
       "</thead>\n",
       "<tbody>\n",
       "\t<tr><td>1</td><td>2020</td><td>    8140</td></tr>\n",
       "\t<tr><td>2</td><td>2020</td><td>  304998</td></tr>\n",
       "\t<tr><td>3</td><td>2020</td><td> 2775012</td></tr>\n",
       "\t<tr><td>4</td><td>2020</td><td> 8618449</td></tr>\n",
       "\t<tr><td>5</td><td>2020</td><td>12841220</td></tr>\n",
       "</tbody>\n",
       "</table>\n"
      ],
      "text/latex": [
       "A grouped\\_df: 5 × 3\n",
       "\\begin{tabular}{lll}\n",
       " Bulan & Tahun & case\\_total\\\\\n",
       " <dbl> & <dbl> & <int>\\\\\n",
       "\\hline\n",
       "\t 1 & 2020 &     8140\\\\\n",
       "\t 2 & 2020 &   304998\\\\\n",
       "\t 3 & 2020 &  2775012\\\\\n",
       "\t 4 & 2020 &  8618449\\\\\n",
       "\t 5 & 2020 & 12841220\\\\\n",
       "\\end{tabular}\n"
      ],
      "text/markdown": [
       "\n",
       "A grouped_df: 5 × 3\n",
       "\n",
       "| Bulan &lt;dbl&gt; | Tahun &lt;dbl&gt; | case_total &lt;int&gt; |\n",
       "|---|---|---|\n",
       "| 1 | 2020 |     8140 |\n",
       "| 2 | 2020 |   304998 |\n",
       "| 3 | 2020 |  2775012 |\n",
       "| 4 | 2020 |  8618449 |\n",
       "| 5 | 2020 | 12841220 |\n",
       "\n"
      ],
      "text/plain": [
       "  Bulan Tahun case_total\n",
       "1 1     2020      8140  \n",
       "2 2     2020    304998  \n",
       "3 3     2020   2775012  \n",
       "4 4     2020   8618449  \n",
       "5 5     2020  12841220  "
      ]
     },
     "metadata": {},
     "output_type": "display_data"
    }
   ],
   "source": [
    "data_covid_new <- data_covid %>%\n",
    "    select(Bulan, Tahun, new_cases) %>%\n",
    "    group_by(Bulan, Tahun) %>%\n",
    "    summarise(case_total = sum(new_cases, na.rm = TRUE))\n",
    "\n",
    "data_covid_sorting <- arrange(select(data_covid_new,Bulan,Tahun,case_total),Tahun)\n",
    "head(data_covid_sorting,5)"
   ]
  },
  {
   "cell_type": "code",
   "execution_count": 8,
   "metadata": {
    "vscode": {
     "languageId": "r"
    }
   },
   "outputs": [
    {
     "data": {
      "image/png": "[encoded data removed]",
      "text/plain": [
       "plot without title"
      ]
     },
     "metadata": {
      "image/png": {
       "height": 420,
       "width": 420
      }
     },
     "output_type": "display_data"
    }
   ],
   "source": [
    "data_series = ts(data_covid_sorting$case_total,start=c(2020, 1), end=c(2024, 8), frequency = 12)\n",
    "plot(data_series)"
   ]
  },
  {
   "cell_type": "markdown",
   "metadata": {
    "vscode": {
     "languageId": "r"
    }
   },
   "source": [
    "# Metode Exponential State Smoothing(ETS)"
   ]
  },
  {
   "cell_type": "code",
   "execution_count": 9,
   "metadata": {
    "vscode": {
     "languageId": "r"
    }
   },
   "outputs": [
    {
     "data": {
      "text/plain": [
       "\n",
       "Forecast method: ETS(M,N,M)\n",
       "\n",
       "Model Information:\n",
       "ETS(M,N,M) \n",
       "\n",
       "Call:\n",
       "ets(y = data_series)\n",
       "\n",
       "  Smoothing parameters:\n",
       "    alpha = 0.808 \n",
       "    gamma = 1e-04 \n",
       "\n",
       "  Initial states:\n",
       "    l = 56691056.7885 \n",
       "    s = 1.5265 0.549 0.4828 0.5347 0.9413 0.8783\n",
       "           0.7811 0.9548 1.0986 0.734 0.9498 2.569\n",
       "\n",
       "  sigma:  0.665\n",
       "\n",
       "     AIC     AICc      BIC \n",
       "2093.087 2105.087 2123.467 \n",
       "\n",
       "Error measures:\n",
       "                   ME     RMSE      MAE       MPE     MAPE      MASE\n",
       "Training set -5980787 66438941 35190705 -32038.66 32069.27 0.4557065\n",
       "                    ACF1\n",
       "Training set 0.003660103\n",
       "\n",
       "Forecasts:\n",
       "         Point Forecast        Lo 80      Hi 80        Lo 95      Hi 95\n",
       "Sep 2024       202929.4     29990.30   375868.5    -61558.14   467417.0\n",
       "Oct 2024       183258.2    -34353.21   400869.6   -149549.74   516066.1\n",
       "Nov 2024       208349.8   -107026.33   523725.9   -273976.37   690676.0\n",
       "Dec 2024       579280.8   -493064.47  1651626.0  -1060729.74  2219291.3\n",
       "Jan 2025       974802.2  -1180858.45  3130462.8  -2321996.26  4271600.6\n",
       "Feb 2025       360430.2   -577801.41  1298661.9  -1074471.24  1795331.7\n",
       "Mar 2025       278585.3   -566696.69  1123867.2  -1014161.93  1571332.5\n",
       "Apr 2025       416927.3  -1047561.50  1881416.2  -1822815.06  2656669.7\n",
       "May 2025       362377.9  -1103983.94  1828739.8  -1880229.02  2604984.8\n",
       "Jun 2025       296460.8  -1080574.40  1673495.9  -1809532.78  2402454.3\n",
       "Jul 2025       333380.3  -1439431.94  2106192.6  -2377902.06  3044662.7\n",
       "Aug 2025       357239.8  -1813275.90  2527755.6  -2962277.53  3676757.2\n",
       "Sep 2025       202937.6  -1203764.70  1609639.8  -1948427.90  2354303.0\n",
       "Oct 2025       183265.6  -1264340.01  1630871.1  -2030656.11  2397187.2\n",
       "Nov 2025       208358.2  -1665470.28  2082186.6  -2657415.14  3074131.5\n",
       "Dec 2025       579304.0  -5348374.42  6506982.5  -8486297.86  9644905.9\n",
       "Jan 2026       974841.4 -10368655.72 12318338.5 -16373540.35 18323223.1\n",
       "Feb 2026       360444.7  -4407312.80  5128202.3  -6931211.18  7652100.6\n",
       "Mar 2026       278596.5  -3909150.79  4466343.7  -6126010.28  6683203.2\n",
       "Apr 2026       416944.1  -6703534.94  7537423.1 -10472888.84 11306777.0\n",
       "May 2026       362392.5  -6667643.50  7392428.4 -10389119.75 11113904.7\n",
       "Jun 2026       296472.7  -6235561.96  6828507.3  -9693412.22 10286357.6\n",
       "Jul 2026       333393.7  -8008391.18  8675178.6 -12424265.37 13091052.8\n",
       "Aug 2026       357254.2  -9793065.59 10507574.0 -15166320.32 15880828.7"
      ]
     },
     "metadata": {},
     "output_type": "display_data"
    },
    {
     "data": {
      "image/png": "[encoded data removed]",
      "text/plain": [
       "Plot with title \"Forecasts from ETS(M,N,M)\""
      ]
     },
     "metadata": {
      "image/png": {
       "height": 420,
       "width": 420
      }
     },
     "output_type": "display_data"
    }
   ],
   "source": [
    "model_ets = ets(data_series)\n",
    "ets_24 = forecast(model_ets, h=24)\n",
    "plot(ets_24)\n",
    "summary(ets_24)"
   ]
  },
  {
   "cell_type": "code",
   "execution_count": null,
   "metadata": {
    "vscode": {
     "languageId": "r"
    }
   },
   "outputs": [
    {
     "data": {
      "text/plain": [
       "\n",
       "Forecast method: ARIMA(0,0,0) with non-zero mean\n",
       "\n",
       "Model Information:\n",
       "Series: data_series \n",
       "ARIMA(0,0,0) with non-zero mean \n",
       "\n",
       "Coefficients:\n",
       "          mean\n",
       "      58721292\n",
       "s.e.  10847335\n",
       "\n",
       "sigma^2 = 6.214e+15:  log likelihood = -1097.19\n",
       "AIC=2198.39   AICc=2198.61   BIC=2202.44\n",
       "\n",
       "Error measures:\n",
       "                        ME     RMSE      MAE       MPE     MAPE      MASE\n",
       "Training set -5.587935e-09 78124666 52572679 -14724.06 14753.53 0.6807966\n",
       "                  ACF1\n",
       "Training set 0.6227338\n",
       "\n",
       "Forecasts:\n",
       "         Point Forecast     Lo 80     Hi 80     Lo 95     Hi 95\n",
       "Sep 2024       58721292 -42305585 159748168 -95785983 213228567\n",
       "Oct 2024       58721292 -42305585 159748168 -95785983 213228567\n",
       "Nov 2024       58721292 -42305585 159748168 -95785983 213228567\n",
       "Dec 2024       58721292 -42305585 159748168 -95785983 213228567\n",
       "Jan 2025       58721292 -42305585 159748168 -95785983 213228567\n",
       "Feb 2025       58721292 -42305585 159748168 -95785983 213228567\n",
       "Mar 2025       58721292 -42305585 159748168 -95785983 213228567\n",
       "Apr 2025       58721292 -42305585 159748168 -95785983 213228567\n",
       "May 2025       58721292 -42305585 159748168 -95785983 213228567\n",
       "Jun 2025       58721292 -42305585 159748168 -95785983 213228567\n",
       "Jul 2025       58721292 -42305585 159748168 -95785983 213228567\n",
       "Aug 2025       58721292 -42305585 159748168 -95785983 213228567\n",
       "Sep 2025       58721292 -42305585 159748168 -95785983 213228567\n",
       "Oct 2025       58721292 -42305585 159748168 -95785983 213228567\n",
       "Nov 2025       58721292 -42305585 159748168 -95785983 213228567\n",
       "Dec 2025       58721292 -42305585 159748168 -95785983 213228567\n",
       "Jan 2026       58721292 -42305585 159748168 -95785983 213228567\n",
       "Feb 2026       58721292 -42305585 159748168 -95785983 213228567\n",
       "Mar 2026       58721292 -42305585 159748168 -95785983 213228567\n",
       "Apr 2026       58721292 -42305585 159748168 -95785983 213228567\n",
       "May 2026       58721292 -42305585 159748168 -95785983 213228567\n",
       "Jun 2026       58721292 -42305585 159748168 -95785983 213228567\n",
       "Jul 2026       58721292 -42305585 159748168 -95785983 213228567\n",
       "Aug 2026       58721292 -42305585 159748168 -95785983 213228567"
      ]
     },
     "metadata": {},
     "output_type": "display_data"
    },
    {
     "data": {
      "image/png": "[encoded data removed]",
      "text/plain": [
       "Plot with title \"Forecasts from ARIMA(0,0,0) with non-zero mean\""
      ]
     },
     "metadata": {
      "image/png": {
       "height": 420,
       "width": 420
      }
     },
     "output_type": "display_data"
    }
   ],
   "source": [
    "model_arima = auto.arima(data_series)\n",
    "arima_24 = forecast(model_arima, h=24)\n",
    "plot(arima_24)\n",
    "summary(arima_24)"
   ]
  },
  {
   "cell_type": "code",
   "execution_count": 11,
   "metadata": {
    "vscode": {
     "languageId": "r"
    }
   },
   "outputs": [
    {
     "data": {
      "text/html": [
       "2093.08719170187"
      ],
      "text/latex": [
       "2093.08719170187"
      ],
      "text/markdown": [
       "2093.08719170187"
      ],
      "text/plain": [
       "[1] 2093.087"
      ]
     },
     "metadata": {},
     "output_type": "display_data"
    },
    {
     "data": {
      "text/html": [
       "2198.38855129165"
      ],
      "text/latex": [
       "2198.38855129165"
      ],
      "text/markdown": [
       "2198.38855129165"
      ],
      "text/plain": [
       "[1] 2198.389"
      ]
     },
     "metadata": {},
     "output_type": "display_data"
    }
   ],
   "source": [
    "aic_ets <- AIC(model_ets)\n",
    "aic_arima <- AIC(model_arima)\n",
    "\n",
    "aic_ets\n",
    "aic_arima"
   ]
  },
  {
   "cell_type": "code",
   "execution_count": null,
   "metadata": {
    "vscode": {
     "languageId": "r"
    }
   },
   "outputs": [
    {
     "data": {
      "image/png": "[encoded data removed]",
      "text/plain": [
       "plot without title"
      ]
     },
     "metadata": {
      "image/png": {
       "height": 420,
       "width": 420
      }
     },
     "output_type": "display_data"
    }
   ],
   "source": [
    "barplot(c(ETS = model_ets$aic, ARIMA=model_arima$aic), col = \"light blue\", ylab = \"AIC\")"
   ]
  }
 ],
 "metadata": {
  "kernelspec": {
   "display_name": "R",
   "language": "R",
   "name": "ir"
  },
  "language_info": {
   "codemirror_mode": "r",
   "file_extension": ".r",
   "mimetype": "text/x-r-source",
   "name": "R",
   "pygments_lexer": "r",
   "version": "4.4.2"
  }
 },
 "nbformat": 4,
 "nbformat_minor": 2
}
