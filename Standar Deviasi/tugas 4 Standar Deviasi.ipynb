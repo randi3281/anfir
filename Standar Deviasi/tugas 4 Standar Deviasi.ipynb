{
 "cells": [
  {
   "cell_type": "markdown",
   "metadata": {},
   "source": [
    "# Membaca nilai CSV"
   ]
  },
  {
   "cell_type": "code",
   "execution_count": 48,
   "metadata": {
    "vscode": {
     "languageId": "r"
    }
   },
   "outputs": [
    {
     "name": "stdout",
     "output_type": "stream",
     "text": [
      "   nilai no_urut\n",
      "1     80       1\n",
      "2     83       2\n",
      "3     81       3\n",
      "4     79       4\n",
      "5     93       5\n",
      "6     99       6\n",
      "7    100       7\n",
      "8    100       8\n",
      "9    100       9\n",
      "10    96      10\n"
     ]
    }
   ],
   "source": [
    "nilai = read.csv(\"data_nilai.csv\")\n",
    "df = data.frame(nilai)\n",
    "print(df)"
   ]
  },
  {
   "cell_type": "markdown",
   "metadata": {},
   "source": [
    "# Standar Deviasi"
   ]
  },
  {
   "cell_type": "code",
   "execution_count": 49,
   "metadata": {
    "vscode": {
     "languageId": "r"
    }
   },
   "outputs": [
    {
     "name": "stdout",
     "output_type": "stream",
     "text": [
      "[1] 9.218942\n"
     ]
    }
   ],
   "source": [
    "# Load the dataset from a CSV file\n",
    "nilai <- read.csv(\"data_nilai.csv\")\n",
    "\n",
    "# Assuming 'nilai' has a column named 'nilai' that contains the data\n",
    "# Calculate the standard deviation of the 'nilai' column\n",
    "standard_deviation <- sd(nilai$nilai)\n",
    "\n",
    "# Print the standard deviation\n",
    "print(standard_deviation)"
   ]
  },
  {
   "cell_type": "code",
   "execution_count": 50,
   "metadata": {
    "vscode": {
     "languageId": "r"
    }
   },
   "outputs": [
    {
     "data": {
      "text/html": [
       "9.21894185299424"
      ],
      "text/latex": [
       "9.21894185299424"
      ],
      "text/markdown": [
       "9.21894185299424"
      ],
      "text/plain": [
       "[1] 9.218942"
      ]
     },
     "metadata": {},
     "output_type": "display_data"
    }
   ],
   "source": [
    "y <- c(nilai$nilai)\n",
    "data1 <- y[1:10]\n",
    "sd(data1)\n"
   ]
  },
  {
   "cell_type": "markdown",
   "metadata": {},
   "source": [
    "# Mempersiapkan library ggplot2"
   ]
  },
  {
   "cell_type": "code",
   "execution_count": 51,
   "metadata": {
    "vscode": {
     "languageId": "r"
    }
   },
   "outputs": [
    {
     "data": {
      "text/html": [
       "<table class=\"dataframe\">\n",
       "<caption>A data.frame: 6 × 2</caption>\n",
       "<thead>\n",
       "\t<tr><th></th><th scope=col>no_urut</th><th scope=col>marks</th></tr>\n",
       "\t<tr><th></th><th scope=col>&lt;int&gt;</th><th scope=col>&lt;int&gt;</th></tr>\n",
       "</thead>\n",
       "<tbody>\n",
       "\t<tr><th scope=row>1</th><td>1</td><td>80</td></tr>\n",
       "\t<tr><th scope=row>2</th><td>2</td><td>83</td></tr>\n",
       "\t<tr><th scope=row>3</th><td>3</td><td>81</td></tr>\n",
       "\t<tr><th scope=row>4</th><td>4</td><td>79</td></tr>\n",
       "\t<tr><th scope=row>5</th><td>5</td><td>93</td></tr>\n",
       "\t<tr><th scope=row>6</th><td>6</td><td>99</td></tr>\n",
       "</tbody>\n",
       "</table>\n"
      ],
      "text/latex": [
       "A data.frame: 6 × 2\n",
       "\\begin{tabular}{r|ll}\n",
       "  & no\\_urut & marks\\\\\n",
       "  & <int> & <int>\\\\\n",
       "\\hline\n",
       "\t1 & 1 & 80\\\\\n",
       "\t2 & 2 & 83\\\\\n",
       "\t3 & 3 & 81\\\\\n",
       "\t4 & 4 & 79\\\\\n",
       "\t5 & 5 & 93\\\\\n",
       "\t6 & 6 & 99\\\\\n",
       "\\end{tabular}\n"
      ],
      "text/markdown": [
       "\n",
       "A data.frame: 6 × 2\n",
       "\n",
       "| <!--/--> | no_urut &lt;int&gt; | marks &lt;int&gt; |\n",
       "|---|---|---|\n",
       "| 1 | 1 | 80 |\n",
       "| 2 | 2 | 83 |\n",
       "| 3 | 3 | 81 |\n",
       "| 4 | 4 | 79 |\n",
       "| 5 | 5 | 93 |\n",
       "| 6 | 6 | 99 |\n",
       "\n"
      ],
      "text/plain": [
       "  no_urut marks\n",
       "1 1       80   \n",
       "2 2       83   \n",
       "3 3       81   \n",
       "4 4       79   \n",
       "5 5       93   \n",
       "6 6       99   "
      ]
     },
     "metadata": {},
     "output_type": "display_data"
    }
   ],
   "source": [
    "\n",
    "# Load necessary library\n",
    "library(ggplot2)\n",
    "\n",
    "# Assuming 'nilai' DataFrame already has 'no_urut' and 'nilai' columns\n",
    "values <- data.frame(no_urut = nilai$no_urut, marks = nilai$nilai)\n",
    "\n",
    "# Display the first few rows of the new DataFrame\n",
    "head(values)\n"
   ]
  },
  {
   "cell_type": "markdown",
   "metadata": {},
   "source": [
    "# Menampilkan Boxplot"
   ]
  },
  {
   "cell_type": "code",
   "execution_count": 53,
   "metadata": {
    "vscode": {
     "languageId": "r"
    }
   },
   "outputs": [
    {
     "data": {
      "image/png": "[encoded data removed]",
      "text/plain": [
       "plot without title"
      ]
     },
     "metadata": {
      "image/png": {
       "height": 420,
       "width": 420
      }
     },
     "output_type": "display_data"
    }
   ],
   "source": [
    "ggplot(values, aes(x= marks, y=no_urut))+geom_bar(stat=\"identity\")"
   ]
  }
 ],
 "metadata": {
  "kernelspec": {
   "display_name": "R",
   "language": "R",
   "name": "ir"
  },
  "language_info": {
   "codemirror_mode": "r",
   "file_extension": ".r",
   "mimetype": "text/x-r-source",
   "name": "R",
   "pygments_lexer": "r",
   "version": "4.1.2"
  }
 },
 "nbformat": 4,
 "nbformat_minor": 2
}
