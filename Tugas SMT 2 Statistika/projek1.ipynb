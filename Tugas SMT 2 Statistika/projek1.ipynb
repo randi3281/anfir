{
 "cells": [
  {
   "cell_type": "markdown",
   "metadata": {},
   "source": [
    "# Soal 1"
   ]
  },
  {
   "cell_type": "code",
   "execution_count": 1,
   "metadata": {
    "vscode": {
     "languageId": "r"
    }
   },
   "outputs": [
    {
     "name": "stderr",
     "output_type": "stream",
     "text": [
      "Installing package into 'C:/Users/anfiniti/AppData/Local/R/win-library/4.4'\n",
      "(as 'lib' is unspecified)\n",
      "\n",
      "also installing the dependencies 'cowplot', 'Deriv', 'microbenchmark', 'numDeriv', 'doBy', 'SparseM', 'MatrixModels', 'minqa', 'nloptr', 'RcppEigen', 'carData', 'abind', 'Formula', 'pbkrtest', 'quantreg', 'lme4'\n",
      "\n",
      "\n"
     ]
    },
    {
     "name": "stdout",
     "output_type": "stream",
     "text": [
      "package 'cowplot' successfully unpacked and MD5 sums checked\n",
      "package 'Deriv' successfully unpacked and MD5 sums checked\n",
      "package 'microbenchmark' successfully unpacked and MD5 sums checked\n",
      "package 'numDeriv' successfully unpacked and MD5 sums checked\n",
      "package 'doBy' successfully unpacked and MD5 sums checked\n",
      "package 'SparseM' successfully unpacked and MD5 sums checked\n",
      "package 'MatrixModels' successfully unpacked and MD5 sums checked\n",
      "package 'minqa' successfully unpacked and MD5 sums checked\n",
      "package 'nloptr' successfully unpacked and MD5 sums checked\n",
      "package 'RcppEigen' successfully unpacked and MD5 sums checked\n",
      "package 'carData' successfully unpacked and MD5 sums checked\n",
      "package 'abind' successfully unpacked and MD5 sums checked\n",
      "package 'Formula' successfully unpacked and MD5 sums checked\n",
      "package 'pbkrtest' successfully unpacked and MD5 sums checked\n",
      "package 'quantreg' successfully unpacked and MD5 sums checked\n",
      "package 'lme4' successfully unpacked and MD5 sums checked\n",
      "package 'car' successfully unpacked and MD5 sums checked\n",
      "\n",
      "The downloaded binary packages are in\n",
      "\tC:\\Users\\anfiniti\\AppData\\Local\\Temp\\RtmpgzWbc5\\downloaded_packages\n"
     ]
    },
    {
     "name": "stderr",
     "output_type": "stream",
     "text": [
      "Installing package into 'C:/Users/anfiniti/AppData/Local/R/win-library/4.4'\n",
      "(as 'lib' is unspecified)\n",
      "\n"
     ]
    },
    {
     "name": "stdout",
     "output_type": "stream",
     "text": [
      "package 'nortest' successfully unpacked and MD5 sums checked\n",
      "\n",
      "The downloaded binary packages are in\n",
      "\tC:\\Users\\anfiniti\\AppData\\Local\\Temp\\RtmpgzWbc5\\downloaded_packages\n"
     ]
    }
   ],
   "source": [
    "if (!requireNamespace(\"tidyverse\", quietly = TRUE)) {\n",
    "  install.packages(\"tidyverse\", repos = \"https://cloud.r-project.org/\")\n",
    "}\n",
    "\n",
    "if (!requireNamespace(\"car\", quietly = TRUE)) {\n",
    "  install.packages(\"car\", repos = \"https://cloud.r-project.org/\")\n",
    "}\n",
    "\n",
    "if (!requireNamespace(\"nortest\", quietly = TRUE)) {\n",
    "  install.packages(\"nortest\", repos = \"https://cloud.r-project.org/\")\n",
    "}"
   ]
  },
  {
   "cell_type": "code",
   "execution_count": null,
   "metadata": {
    "vscode": {
     "languageId": "r"
    }
   },
   "outputs": [],
   "source": [
    "# Memuat library yang dibutuhkan\n",
    "library(tidyverse)\n",
    "library(car)       # Untuk uji homogenitas variansi\n",
    "library(nortest)   # Untuk uji normalitas"
   ]
  },
  {
   "cell_type": "code",
   "execution_count": 15,
   "metadata": {
    "vscode": {
     "languageId": "r"
    }
   },
   "outputs": [
    {
     "name": "stdout",
     "output_type": "stream",
     "text": [
      "  NO TANPA_OBAT DENGAN_OBAT\n",
      "1  1         80          71\n",
      "2  2         77          73\n",
      "3  3         85          74\n",
      "4  4         78          64\n",
      "5  5         81          78\n",
      "6  6         87          82\n"
     ]
    }
   ],
   "source": [
    "# Membaca data dari file CSV\n",
    "data <- read.csv(\"DATA SOAL 1.csv\",sep = \";\")\n",
    "\n",
    "# Melihat data untuk memastikan strukturnya benar\n",
    "print(head(data))\n",
    "\n",
    "# Memisahkan data menjadi dua kelompok\n",
    "tanpa_obat <- data$TANPA_OBAT\n",
    "dengan_obat <- data$DENGAN_OBAT"
   ]
  },
  {
   "cell_type": "code",
   "execution_count": 16,
   "metadata": {
    "vscode": {
     "languageId": "r"
    }
   },
   "outputs": [
    {
     "name": "stdout",
     "output_type": "stream",
     "text": [
      "[1] \"Uji Normalitas:\"\n",
      "[1] \"Tanpa Obat:\"\n",
      "\n",
      "\tShapiro-Wilk normality test\n",
      "\n",
      "data:  tanpa_obat\n",
      "W = 0.94524, p-value = 0.6126\n",
      "\n",
      "[1] \"Dengan Obat:\"\n",
      "\n",
      "\tShapiro-Wilk normality test\n",
      "\n",
      "data:  dengan_obat\n",
      "W = 0.96677, p-value = 0.8594\n",
      "\n"
     ]
    }
   ],
   "source": [
    "# 1. Uji Normalitas\n",
    "# Uji normalitas untuk \"tanpa obat\" dan \"dengan obat\"\n",
    "shapiro_tanpa <- shapiro.test(tanpa_obat)\n",
    "shapiro_dengan <- shapiro.test(dengan_obat)\n",
    "\n",
    "print(\"Uji Normalitas:\")\n",
    "print(\"Tanpa Obat:\")\n",
    "print(shapiro_tanpa)\n",
    "print(\"Dengan Obat:\")\n",
    "print(shapiro_dengan)"
   ]
  },
  {
   "cell_type": "code",
   "execution_count": 17,
   "metadata": {
    "vscode": {
     "languageId": "r"
    }
   },
   "outputs": [
    {
     "name": "stderr",
     "output_type": "stream",
     "text": [
      "Warning message in leveneTest.default(y = y, group = group, ...):\n",
      "\"group coerced to factor.\"\n"
     ]
    },
    {
     "name": "stdout",
     "output_type": "stream",
     "text": [
      "[1] \"Uji Homogenitas Variansi (Levene's Test):\"\n",
      "Levene's Test for Homogeneity of Variance (center = median)\n",
      "      Df F value Pr(>F)\n",
      "group  1  0.0184 0.8936\n",
      "      18               \n"
     ]
    }
   ],
   "source": [
    "# 2. Uji Homogenitas Variansi\n",
    "# Menggabungkan data menjadi satu frame untuk Levene's Test\n",
    "data_long <- data.frame(\n",
    "  berat = c(tanpa_obat, dengan_obat),\n",
    "  kelompok = c(rep(\"Tanpa Obat\", length(tanpa_obat)), rep(\"Dengan Obat\", length(dengan_obat)))\n",
    ")\n",
    "\n",
    "levene_test <- leveneTest(berat ~ kelompok, data = data_long)\n",
    "\n",
    "print(\"Uji Homogenitas Variansi (Levene's Test):\")\n",
    "print(levene_test)"
   ]
  },
  {
   "cell_type": "code",
   "execution_count": 18,
   "metadata": {
    "vscode": {
     "languageId": "r"
    }
   },
   "outputs": [
    {
     "name": "stdout",
     "output_type": "stream",
     "text": [
      "[1] \"Uji Perbedaan Berat Badan:\"\n",
      "\n",
      "\tTwo Sample t-test\n",
      "\n",
      "data:  tanpa_obat and dengan_obat\n",
      "t = 3.9659, df = 18, p-value = 0.000906\n",
      "alternative hypothesis: true difference in means is not equal to 0\n",
      "95 percent confidence interval:\n",
      "  4.044233 13.155767\n",
      "sample estimates:\n",
      "mean of x mean of y \n",
      "     81.8      73.2 \n",
      "\n"
     ]
    }
   ],
   "source": [
    "# 3. Uji Perbedaan Berat Badan\n",
    "# Uji t dua sampel independen\n",
    "t_test <- t.test(tanpa_obat, dengan_obat, var.equal = TRUE)\n",
    "\n",
    "print(\"Uji Perbedaan Berat Badan:\")\n",
    "print(t_test)"
   ]
  }
 ],
 "metadata": {
  "kernelspec": {
   "display_name": "R",
   "language": "R",
   "name": "ir"
  },
  "language_info": {
   "codemirror_mode": "r",
   "file_extension": ".r",
   "mimetype": "text/x-r-source",
   "name": "R",
   "pygments_lexer": "r",
   "version": "4.4.2"
  }
 },
 "nbformat": 4,
 "nbformat_minor": 2
}
