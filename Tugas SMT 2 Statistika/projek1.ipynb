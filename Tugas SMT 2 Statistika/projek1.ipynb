{
 "cells": [
  {
   "cell_type": "markdown",
   "metadata": {},
   "source": [
    "# Soal 1"
   ]
  },
  {
   "cell_type": "code",
   "execution_count": null,
   "metadata": {
    "vscode": {
     "languageId": "r"
    }
   },
   "outputs": [],
   "source": [
    "if (!requireNamespace(\"tidyverse\", quietly = TRUE)) install.packages(\"tidyverse\")\n",
    "if (!requireNamespace(\"car\", quietly = TRUE)) install.packages(\"car\")\n",
    "if (!requireNamespace(\"nortest\", quietly = TRUE)) install.packages(\"nortest\")"
   ]
  },
  {
   "cell_type": "code",
   "execution_count": null,
   "metadata": {
    "vscode": {
     "languageId": "r"
    }
   },
   "outputs": [
    {
     "name": "stderr",
     "output_type": "stream",
     "text": [
      "Installing package into 'C:/Users/anfiniti/AppData/Local/R/win-library/4.4'\n",
      "(as 'lib' is unspecified)\n",
      "\n",
      "also installing the dependencies 'bit', 'rematch', 'bit64', 'blob', 'DBI', 'data.table', 'gargle', 'cellranger', 'ids', 'vroom', 'tzdb', 'progress', 'selectr', 'broom', 'conflicted', 'dbplyr', 'dtplyr', 'forcats', 'googledrive', 'googlesheets4', 'haven', 'hms', 'httr', 'modelr', 'readr', 'readxl', 'reprex', 'rvest', 'tidyr'\n",
      "\n",
      "\n",
      "Warning message in download.file(url, destfile, method, mode = \"wb\", ...):\n",
      "\"downloaded length 2391928 != reported length 2669248\"\n",
      "Warning message in download.file(url, destfile, method, mode = \"wb\", ...):\n",
      "\"URL 'https://cran.r-project.org/bin/windows/contrib/4.4/data.table_1.16.4.zip': Timeout of 60 seconds was reached\"\n"
     ]
    },
    {
     "name": "stdout",
     "output_type": "stream",
     "text": [
      "Error in download.file(url, destfile, method, mode = \"wb\", ...) : \n",
      "  download from 'https://cran.r-project.org/bin/windows/contrib/4.4/data.table_1.16.4.zip' failed\n"
     ]
    },
    {
     "name": "stderr",
     "output_type": "stream",
     "text": [
      "Warning message in download.packages(pkgs, destdir = tmpd, available = available, :\n",
      "\"download of package 'data.table' failed\"\n"
     ]
    }
   ],
   "source": [
    "# Memuat library yang dibutuhkan\n",
    "library(tidyverse)\n",
    "library(car)       # Untuk uji homogenitas variansi\n",
    "library(nortest)   # Untuk uji normalitas\n",
    "\n",
    "# Membaca data dari file CSV\n",
    "data <- read.csv(\"DATA SOAL 1.csv\")\n",
    "\n",
    "# Melihat data untuk memastikan strukturnya benar\n",
    "print(head(data))\n",
    "\n",
    "# Memisahkan data menjadi dua kelompok\n",
    "tanpa_obat <- data$TANPA_OBAT\n",
    "dengan_obat <- data$DENGAN_OBAT\n",
    "\n",
    "# 1. Uji Normalitas\n",
    "# Uji normalitas untuk \"tanpa obat\" dan \"dengan obat\"\n",
    "shapiro_tanpa <- shapiro.test(tanpa_obat)\n",
    "shapiro_dengan <- shapiro.test(dengan_obat)\n",
    "\n",
    "print(\"Uji Normalitas:\")\n",
    "print(\"Tanpa Obat:\")\n",
    "print(shapiro_tanpa)\n",
    "print(\"Dengan Obat:\")\n",
    "print(shapiro_dengan)\n",
    "\n",
    "# 2. Uji Homogenitas Variansi\n",
    "# Menggabungkan data menjadi satu frame untuk Levene's Test\n",
    "data_long <- data.frame(\n",
    "  berat = c(tanpa_obat, dengan_obat),\n",
    "  kelompok = c(rep(\"Tanpa Obat\", length(tanpa_obat)), rep(\"Dengan Obat\", length(dengan_obat)))\n",
    ")\n",
    "\n",
    "levene_test <- leveneTest(berat ~ kelompok, data = data_long)\n",
    "\n",
    "print(\"Uji Homogenitas Variansi (Levene's Test):\")\n",
    "print(levene_test)\n",
    "\n",
    "# 3. Uji Perbedaan Berat Badan\n",
    "# Uji t dua sampel independen\n",
    "t_test <- t.test(tanpa_obat, dengan_obat, var.equal = TRUE)\n",
    "\n",
    "print(\"Uji Perbedaan Berat Badan:\")\n",
    "print(t_test)\n"
   ]
  }
 ],
 "metadata": {
  "kernelspec": {
   "display_name": "R",
   "language": "R",
   "name": "ir"
  },
  "language_info": {
   "codemirror_mode": "r",
   "file_extension": ".r",
   "mimetype": "text/x-r-source",
   "name": "R",
   "pygments_lexer": "r",
   "version": "4.4.2"
  }
 },
 "nbformat": 4,
 "nbformat_minor": 2
}
