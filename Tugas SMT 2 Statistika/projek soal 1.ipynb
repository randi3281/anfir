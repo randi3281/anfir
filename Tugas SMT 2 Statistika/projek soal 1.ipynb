{
 "cells": [
  {
   "cell_type": "markdown",
   "metadata": {},
   "source": [
    "# Soal 1"
   ]
  },
  {
   "cell_type": "code",
   "execution_count": 1,
   "metadata": {
    "vscode": {
     "languageId": "r"
    }
   },
   "outputs": [],
   "source": [
    "if (!requireNamespace(\"tidyverse\", quietly = TRUE)) {\n",
    "  install.packages(\"tidyverse\", repos = \"https://cloud.r-project.org/\")\n",
    "}\n",
    "\n",
    "if (!requireNamespace(\"car\", quietly = TRUE)) {\n",
    "  install.packages(\"car\", repos = \"https://cloud.r-project.org/\")\n",
    "}\n",
    "\n",
    "if (!requireNamespace(\"nortest\", quietly = TRUE)) {\n",
    "  install.packages(\"nortest\", repos = \"https://cloud.r-project.org/\")\n",
    "}"
   ]
  },
  {
   "cell_type": "code",
   "execution_count": 2,
   "metadata": {
    "vscode": {
     "languageId": "r"
    }
   },
   "outputs": [
    {
     "name": "stderr",
     "output_type": "stream",
     "text": [
      "── \u001b[1mAttaching core tidyverse packages\u001b[22m ──────────────────────── tidyverse 2.0.0 ──\n",
      "\u001b[32m✔\u001b[39m \u001b[34mdplyr    \u001b[39m 1.1.4     \u001b[32m✔\u001b[39m \u001b[34mreadr    \u001b[39m 2.1.5\n",
      "\u001b[32m✔\u001b[39m \u001b[34mforcats  \u001b[39m 1.0.0     \u001b[32m✔\u001b[39m \u001b[34mstringr  \u001b[39m 1.5.1\n",
      "\u001b[32m✔\u001b[39m \u001b[34mggplot2  \u001b[39m 3.5.1     \u001b[32m✔\u001b[39m \u001b[34mtibble   \u001b[39m 3.2.1\n",
      "\u001b[32m✔\u001b[39m \u001b[34mlubridate\u001b[39m 1.9.3     \u001b[32m✔\u001b[39m \u001b[34mtidyr    \u001b[39m 1.3.1\n",
      "\u001b[32m✔\u001b[39m \u001b[34mpurrr    \u001b[39m 1.0.2     \n",
      "── \u001b[1mConflicts\u001b[22m ────────────────────────────────────────── tidyverse_conflicts() ──\n",
      "\u001b[31m✖\u001b[39m \u001b[34mdplyr\u001b[39m::\u001b[32mfilter()\u001b[39m masks \u001b[34mstats\u001b[39m::filter()\n",
      "\u001b[31m✖\u001b[39m \u001b[34mdplyr\u001b[39m::\u001b[32mlag()\u001b[39m    masks \u001b[34mstats\u001b[39m::lag()\n",
      "\u001b[36mℹ\u001b[39m Use the conflicted package (\u001b[3m\u001b[34m<http://conflicted.r-lib.org/>\u001b[39m\u001b[23m) to force all conflicts to become errors\n",
      "Loading required package: carData\n",
      "\n",
      "\n",
      "Attaching package: 'car'\n",
      "\n",
      "\n",
      "The following object is masked from 'package:dplyr':\n",
      "\n",
      "    recode\n",
      "\n",
      "\n",
      "The following object is masked from 'package:purrr':\n",
      "\n",
      "    some\n",
      "\n",
      "\n"
     ]
    }
   ],
   "source": [
    "# Memuat library yang dibutuhkan\n",
    "library(tidyverse)\n",
    "library(car)       # Untuk uji homogenitas variansi\n",
    "library(nortest)   # Untuk uji normalitas"
   ]
  },
  {
   "cell_type": "code",
   "execution_count": 3,
   "metadata": {
    "vscode": {
     "languageId": "r"
    }
   },
   "outputs": [
    {
     "name": "stdout",
     "output_type": "stream",
     "text": [
      "  NO TANPA_OBAT DENGAN_OBAT\n",
      "1  1         84          75\n",
      "2  2         80          75\n",
      "3  3         89          80\n",
      "4  4         82          70\n",
      "5  5         85          80\n",
      "6  6         90          85\n"
     ]
    }
   ],
   "source": [
    "# Membaca data dari file CSV\n",
    "data <- read.csv(\"DATA SOAL 1.csv\",sep = \";\")\n",
    "\n",
    "# Melihat data untuk memastikan strukturnya benar\n",
    "print(head(data))\n",
    "\n",
    "# Memisahkan data menjadi dua kelompok\n",
    "tanpa_obat <- data$TANPA_OBAT\n",
    "dengan_obat <- data$DENGAN_OBAT"
   ]
  },
  {
   "cell_type": "code",
   "execution_count": 4,
   "metadata": {
    "vscode": {
     "languageId": "r"
    }
   },
   "outputs": [
    {
     "name": "stdout",
     "output_type": "stream",
     "text": [
      "[1] \"Uji Normalitas:\"\n",
      "[1] \"Tanpa Obat:\"\n",
      "\n",
      "\tShapiro-Wilk normality test\n",
      "\n",
      "data:  tanpa_obat\n",
      "W = 0.92068, p-value = 0.3626\n",
      "\n",
      "[1] \"Dengan Obat:\"\n",
      "\n",
      "\tShapiro-Wilk normality test\n",
      "\n",
      "data:  dengan_obat\n",
      "W = 0.91085, p-value = 0.2869\n",
      "\n"
     ]
    }
   ],
   "source": [
    "# 1. Uji Normalitas\n",
    "# Uji normalitas untuk \"tanpa obat\" dan \"dengan obat\"\n",
    "shapiro_tanpa <- shapiro.test(tanpa_obat)\n",
    "shapiro_dengan <- shapiro.test(dengan_obat)\n",
    "\n",
    "print(\"Uji Normalitas:\")\n",
    "print(\"Tanpa Obat:\")\n",
    "print(shapiro_tanpa)\n",
    "print(\"Dengan Obat:\")\n",
    "print(shapiro_dengan)"
   ]
  },
  {
   "cell_type": "code",
   "execution_count": 5,
   "metadata": {
    "vscode": {
     "languageId": "r"
    }
   },
   "outputs": [
    {
     "name": "stderr",
     "output_type": "stream",
     "text": [
      "Warning message in leveneTest.default(y = y, group = group, ...):\n",
      "\"group coerced to factor.\"\n"
     ]
    },
    {
     "name": "stdout",
     "output_type": "stream",
     "text": [
      "[1] \"Uji Homogenitas Variansi (Levene's Test):\"\n",
      "Levene's Test for Homogeneity of Variance (center = median)\n",
      "      Df F value Pr(>F)\n",
      "group  1  0.0185 0.8933\n",
      "      18               \n"
     ]
    }
   ],
   "source": [
    "# 2. Uji Homogenitas Variansi\n",
    "# Menggabungkan data menjadi satu frame untuk Levene's Test\n",
    "data_long <- data.frame(\n",
    "  berat = c(tanpa_obat, dengan_obat),\n",
    "  kelompok = c(rep(\"Tanpa Obat\", length(tanpa_obat)), rep(\"Dengan Obat\", length(dengan_obat)))\n",
    ")\n",
    "\n",
    "levene_test <- leveneTest(berat ~ kelompok, data = data_long)\n",
    "\n",
    "print(\"Uji Homogenitas Variansi (Levene's Test):\")\n",
    "print(levene_test)"
   ]
  },
  {
   "cell_type": "code",
   "execution_count": 6,
   "metadata": {
    "vscode": {
     "languageId": "r"
    }
   },
   "outputs": [
    {
     "name": "stdout",
     "output_type": "stream",
     "text": [
      "[1] \"Uji Perbedaan Berat Badan:\"\n"
     ]
    },
    {
     "name": "stdout",
     "output_type": "stream",
     "text": [
      "\n",
      "\tTwo Sample t-test\n",
      "\n",
      "data:  tanpa_obat and dengan_obat\n",
      "t = 4.2637, df = 18, p-value = 0.0004672\n",
      "alternative hypothesis: true difference in means is not equal to 0\n",
      "95 percent confidence interval:\n",
      "  4.565334 13.434666\n",
      "sample estimates:\n",
      "mean of x mean of y \n",
      "     85.5      76.5 \n",
      "\n"
     ]
    }
   ],
   "source": [
    "# 3. Uji Perbedaan Berat Badan\n",
    "# Uji t dua sampel independen\n",
    "t_test <- t.test(tanpa_obat, dengan_obat, var.equal = TRUE)\n",
    "\n",
    "print(\"Uji Perbedaan Berat Badan:\")\n",
    "print(t_test)"
   ]
  }
 ],
 "metadata": {
  "kernelspec": {
   "display_name": "R",
   "language": "R",
   "name": "ir"
  },
  "language_info": {
   "codemirror_mode": "r",
   "file_extension": ".r",
   "mimetype": "text/x-r-source",
   "name": "R",
   "pygments_lexer": "r",
   "version": "4.4.2"
  }
 },
 "nbformat": 4,
 "nbformat_minor": 2
}
