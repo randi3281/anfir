{
 "cells": [
  {
   "cell_type": "markdown",
   "metadata": {},
   "source": [
    "# Soal 3"
   ]
  },
  {
   "cell_type": "code",
   "execution_count": 1,
   "metadata": {
    "vscode": {
     "languageId": "r"
    }
   },
   "outputs": [],
   "source": [
    "if (!requireNamespace(\"car\", quietly = TRUE)) {\n",
    "  install.packages(\"car\", repos = \"https://cloud.r-project.org/\")\n",
    "}\n",
    "if (!requireNamespace(\"lmtest\", quietly = TRUE)) {\n",
    "  install.packages(\"lmtest\", repos = \"https://cloud.r-project.org/\")\n",
    "}"
   ]
  },
  {
   "cell_type": "code",
   "execution_count": 2,
   "metadata": {
    "vscode": {
     "languageId": "r"
    }
   },
   "outputs": [
    {
     "name": "stderr",
     "output_type": "stream",
     "text": [
      "Loading required package: carData\n",
      "\n",
      "Loading required package: zoo\n",
      "\n",
      "\n",
      "Attaching package: 'zoo'\n",
      "\n",
      "\n",
      "The following objects are masked from 'package:base':\n",
      "\n",
      "    as.Date, as.Date.numeric\n",
      "\n",
      "\n"
     ]
    }
   ],
   "source": [
    "# Memuat library yang dibutuhkan\n",
    "library(car)\n",
    "library(lmtest)"
   ]
  },
  {
   "cell_type": "code",
   "execution_count": 3,
   "metadata": {
    "vscode": {
     "languageId": "r"
    }
   },
   "outputs": [
    {
     "name": "stdout",
     "output_type": "stream",
     "text": [
      "   NO_RESPONDEN X1 X2  X3  Y\n",
      "1          R-01 40 42  88 48\n",
      "2          R-02 40 41  88 47\n",
      "3          R-03 47 36  94 48\n",
      "4          R-04 43 44  92 50\n",
      "5          R-05 40 36  80 47\n",
      "6          R-06 35 39  91 43\n",
      "7          R-07 41 43  81 50\n",
      "8          R-08 42 38  94 48\n",
      "9          R-09 40 36  86 48\n",
      "10         R-10 37 39  82 47\n",
      "11         R-11 46 44  92 51\n",
      "12         R-12 43 38  93 51\n",
      "13         R-13 41 43  90 48\n",
      "14         R-14 45 45  81 48\n",
      "15         R-15 40 36  78 47\n",
      "16         R-16 44 50 105 59\n",
      "17         R-17 50 55 120 60\n",
      "18         R-18 38 36  81 46\n",
      "19         R-19 49 46  95 49\n",
      "20         R-20 42 45  94 51\n"
     ]
    }
   ],
   "source": [
    "# Memuat data dari file CSV\n",
    "data <- read.csv(\"DATA SOAL 3.csv\", sep = \";\")\n",
    "\n",
    "# Menampilkan data untuk memastikan data terbaca dengan benar\n",
    "print(data)"
   ]
  },
  {
   "cell_type": "code",
   "execution_count": 4,
   "metadata": {
    "vscode": {
     "languageId": "r"
    }
   },
   "outputs": [
    {
     "name": "stdout",
     "output_type": "stream",
     "text": [
      "\n",
      "Persamaan Regresi Berganda:\n"
     ]
    },
    {
     "data": {
      "text/plain": [
       "\n",
       "Call:\n",
       "lm(formula = Y ~ X1 + X2 + X3, data = data)\n",
       "\n",
       "Residuals:\n",
       "    Min      1Q  Median      3Q     Max \n",
       "-4.4548 -0.9870  0.0342  1.4926  4.3431 \n",
       "\n",
       "Coefficients:\n",
       "            Estimate Std. Error t value Pr(>|t|)  \n",
       "(Intercept) 14.81589    5.75861   2.573   0.0204 *\n",
       "X1           0.15772    0.17644   0.894   0.3846  \n",
       "X2           0.32210    0.14983   2.150   0.0472 *\n",
       "X3           0.15996    0.08128   1.968   0.0666 .\n",
       "---\n",
       "Signif. codes:  0 '***' 0.001 '**' 0.01 '*' 0.05 '.' 0.1 ' ' 1\n",
       "\n",
       "Residual standard error: 2.197 on 16 degrees of freedom\n",
       "Multiple R-squared:  0.7428,\tAdjusted R-squared:  0.6946 \n",
       "F-statistic:  15.4 on 3 and 16 DF,  p-value: 5.618e-05\n"
      ]
     },
     "metadata": {},
     "output_type": "display_data"
    }
   ],
   "source": [
    "# a. Persamaan regresi berganda X1, X2, X3 terhadap Y\n",
    "cat(\"\\nPersamaan Regresi Berganda:\\n\")\n",
    "model <- lm(Y ~ X1 + X2 + X3, data = data)\n",
    "summary(model)"
   ]
  },
  {
   "cell_type": "code",
   "execution_count": 5,
   "metadata": {
    "vscode": {
     "languageId": "r"
    }
   },
   "outputs": [
    {
     "name": "stdout",
     "output_type": "stream",
     "text": [
      "\n",
      "Uji Normalitas Residual:\n"
     ]
    },
    {
     "name": "stdout",
     "output_type": "stream",
     "text": [
      "\n",
      "\tShapiro-Wilk normality test\n",
      "\n",
      "data:  residuals(model)\n",
      "W = 0.97312, p-value = 0.8189\n",
      "\n"
     ]
    }
   ],
   "source": [
    "# b. Uji normalitas residual dari model regresi menggunakan Shapiro-Wilk test\n",
    "cat(\"\\nUji Normalitas Residual:\\n\")\n",
    "shapiro_test <- shapiro.test(residuals(model))\n",
    "print(shapiro_test)"
   ]
  },
  {
   "cell_type": "code",
   "execution_count": 6,
   "metadata": {
    "vscode": {
     "languageId": "r"
    }
   },
   "outputs": [
    {
     "name": "stdout",
     "output_type": "stream",
     "text": [
      "\n",
      "Uji Multikolinearitas (VIF):\n"
     ]
    },
    {
     "data": {
      "text/html": [
       "<style>\n",
       ".dl-inline {width: auto; margin:0; padding: 0}\n",
       ".dl-inline>dt, .dl-inline>dd {float: none; width: auto; display: inline-block}\n",
       ".dl-inline>dt::after {content: \":\\0020\"; padding-right: .5ex}\n",
       ".dl-inline>dt:not(:first-of-type) {padding-left: .5ex}\n",
       "</style><dl class=dl-inline><dt>X1</dt><dd>1.80975654022467</dd><dt>X2</dt><dd>2.34825299337192</dd><dt>X3</dt><dd>2.44997405596269</dd></dl>\n"
      ],
      "text/latex": [
       "\\begin{description*}\n",
       "\\item[X1] 1.80975654022467\n",
       "\\item[X2] 2.34825299337192\n",
       "\\item[X3] 2.44997405596269\n",
       "\\end{description*}\n"
      ],
      "text/markdown": [
       "X1\n",
       ":   1.80975654022467X2\n",
       ":   2.34825299337192X3\n",
       ":   2.44997405596269\n",
       "\n"
      ],
      "text/plain": [
       "      X1       X2       X3 \n",
       "1.809757 2.348253 2.449974 "
      ]
     },
     "metadata": {},
     "output_type": "display_data"
    }
   ],
   "source": [
    "# c. Uji multikolinearitas menggunakan Variance Inflation Factor (VIF)\n",
    "cat(\"\\nUji Multikolinearitas (VIF):\\n\")\n",
    "library(car)\n",
    "vif(model)"
   ]
  },
  {
   "cell_type": "code",
   "execution_count": 7,
   "metadata": {
    "vscode": {
     "languageId": "r"
    }
   },
   "outputs": [
    {
     "name": "stdout",
     "output_type": "stream",
     "text": [
      "\n",
      "Uji Heteroskedastisitas (Breusch-Pagan Test):\n"
     ]
    },
    {
     "data": {
      "text/plain": [
       "\n",
       "\tstudentized Breusch-Pagan test\n",
       "\n",
       "data:  model\n",
       "BP = 2.916, df = 3, p-value = 0.4048\n"
      ]
     },
     "metadata": {},
     "output_type": "display_data"
    }
   ],
   "source": [
    "# d. Uji heteroskedastisitas menggunakan Uji Breusch-Pagan\n",
    "cat(\"\\nUji Heteroskedastisitas (Breusch-Pagan Test):\\n\")\n",
    "library(lmtest)\n",
    "bptest(model)"
   ]
  },
  {
   "cell_type": "code",
   "execution_count": 8,
   "metadata": {
    "vscode": {
     "languageId": "r"
    }
   },
   "outputs": [
    {
     "name": "stdout",
     "output_type": "stream",
     "text": [
      "\n",
      "Uji Kecocokan Model:\n"
     ]
    },
    {
     "data": {
      "text/html": [
       "0.742780068843578"
      ],
      "text/latex": [
       "0.742780068843578"
      ],
      "text/markdown": [
       "0.742780068843578"
      ],
      "text/plain": [
       "[1] 0.7427801"
      ]
     },
     "metadata": {},
     "output_type": "display_data"
    },
    {
     "data": {
      "text/html": [
       "0.694551331751749"
      ],
      "text/latex": [
       "0.694551331751749"
      ],
      "text/markdown": [
       "0.694551331751749"
      ],
      "text/plain": [
       "[1] 0.6945513"
      ]
     },
     "metadata": {},
     "output_type": "display_data"
    },
    {
     "data": {
      "text/html": [
       "<table class=\"dataframe\">\n",
       "<caption>A matrix: 4 × 4 of type dbl</caption>\n",
       "<thead>\n",
       "\t<tr><th></th><th scope=col>Estimate</th><th scope=col>Std. Error</th><th scope=col>t value</th><th scope=col>Pr(&gt;|t|)</th></tr>\n",
       "</thead>\n",
       "<tbody>\n",
       "\t<tr><th scope=row>(Intercept)</th><td>14.8158895</td><td>5.75861075</td><td>2.5728236</td><td>0.02043704</td></tr>\n",
       "\t<tr><th scope=row>X1</th><td> 0.1577167</td><td>0.17644226</td><td>0.8938717</td><td>0.38463926</td></tr>\n",
       "\t<tr><th scope=row>X2</th><td> 0.3221042</td><td>0.14983402</td><td>2.1497402</td><td>0.04721578</td></tr>\n",
       "\t<tr><th scope=row>X3</th><td> 0.1599647</td><td>0.08127972</td><td>1.9680765</td><td>0.06663861</td></tr>\n",
       "</tbody>\n",
       "</table>\n"
      ],
      "text/latex": [
       "A matrix: 4 × 4 of type dbl\n",
       "\\begin{tabular}{r|llll}\n",
       "  & Estimate & Std. Error & t value & Pr(>\\textbar{}t\\textbar{})\\\\\n",
       "\\hline\n",
       "\t(Intercept) & 14.8158895 & 5.75861075 & 2.5728236 & 0.02043704\\\\\n",
       "\tX1 &  0.1577167 & 0.17644226 & 0.8938717 & 0.38463926\\\\\n",
       "\tX2 &  0.3221042 & 0.14983402 & 2.1497402 & 0.04721578\\\\\n",
       "\tX3 &  0.1599647 & 0.08127972 & 1.9680765 & 0.06663861\\\\\n",
       "\\end{tabular}\n"
      ],
      "text/markdown": [
       "\n",
       "A matrix: 4 × 4 of type dbl\n",
       "\n",
       "| <!--/--> | Estimate | Std. Error | t value | Pr(&gt;|t|) |\n",
       "|---|---|---|---|---|\n",
       "| (Intercept) | 14.8158895 | 5.75861075 | 2.5728236 | 0.02043704 |\n",
       "| X1 |  0.1577167 | 0.17644226 | 0.8938717 | 0.38463926 |\n",
       "| X2 |  0.3221042 | 0.14983402 | 2.1497402 | 0.04721578 |\n",
       "| X3 |  0.1599647 | 0.08127972 | 1.9680765 | 0.06663861 |\n",
       "\n"
      ],
      "text/plain": [
       "            Estimate   Std. Error t value   Pr(>|t|)  \n",
       "(Intercept) 14.8158895 5.75861075 2.5728236 0.02043704\n",
       "X1           0.1577167 0.17644226 0.8938717 0.38463926\n",
       "X2           0.3221042 0.14983402 2.1497402 0.04721578\n",
       "X3           0.1599647 0.08127972 1.9680765 0.06663861"
      ]
     },
     "metadata": {},
     "output_type": "display_data"
    }
   ],
   "source": [
    "# e. Uji kecocokan model (Goodness of Fit) dengan melihat R-squared dan p-value\n",
    "cat(\"\\nUji Kecocokan Model:\\n\")\n",
    "summary(model)$r.squared\n",
    "summary(model)$adj.r.squared\n",
    "summary(model)$coefficients"
   ]
  },
  {
   "cell_type": "code",
   "execution_count": 9,
   "metadata": {
    "vscode": {
     "languageId": "r"
    }
   },
   "outputs": [
    {
     "name": "stdout",
     "output_type": "stream",
     "text": [
      "\n",
      "Uji Pengaruh Variabel Independen Secara Bersama-sama:\n"
     ]
    },
    {
     "data": {
      "text/html": [
       "<table class=\"dataframe\">\n",
       "<caption>A anova: 4 × 5</caption>\n",
       "<thead>\n",
       "\t<tr><th></th><th scope=col>Df</th><th scope=col>Sum Sq</th><th scope=col>Mean Sq</th><th scope=col>F value</th><th scope=col>Pr(&gt;F)</th></tr>\n",
       "\t<tr><th></th><th scope=col>&lt;int&gt;</th><th scope=col>&lt;dbl&gt;</th><th scope=col>&lt;dbl&gt;</th><th scope=col>&lt;dbl&gt;</th><th scope=col>&lt;dbl&gt;</th></tr>\n",
       "</thead>\n",
       "<tbody>\n",
       "\t<tr><th scope=row>X1</th><td> 1</td><td>128.81130</td><td>128.811299</td><td>26.690619</td><td>9.372664e-05</td></tr>\n",
       "\t<tr><th scope=row>X2</th><td> 1</td><td> 75.47827</td><td> 75.478267</td><td>15.639634</td><td>1.135205e-03</td></tr>\n",
       "\t<tr><th scope=row>X3</th><td> 1</td><td> 18.69301</td><td> 18.693011</td><td> 3.873325</td><td>6.663861e-02</td></tr>\n",
       "\t<tr><th scope=row>Residuals</th><td>16</td><td> 77.21742</td><td>  4.826089</td><td>       NA</td><td>          NA</td></tr>\n",
       "</tbody>\n",
       "</table>\n"
      ],
      "text/latex": [
       "A anova: 4 × 5\n",
       "\\begin{tabular}{r|lllll}\n",
       "  & Df & Sum Sq & Mean Sq & F value & Pr(>F)\\\\\n",
       "  & <int> & <dbl> & <dbl> & <dbl> & <dbl>\\\\\n",
       "\\hline\n",
       "\tX1 &  1 & 128.81130 & 128.811299 & 26.690619 & 9.372664e-05\\\\\n",
       "\tX2 &  1 &  75.47827 &  75.478267 & 15.639634 & 1.135205e-03\\\\\n",
       "\tX3 &  1 &  18.69301 &  18.693011 &  3.873325 & 6.663861e-02\\\\\n",
       "\tResiduals & 16 &  77.21742 &   4.826089 &        NA &           NA\\\\\n",
       "\\end{tabular}\n"
      ],
      "text/markdown": [
       "\n",
       "A anova: 4 × 5\n",
       "\n",
       "| <!--/--> | Df &lt;int&gt; | Sum Sq &lt;dbl&gt; | Mean Sq &lt;dbl&gt; | F value &lt;dbl&gt; | Pr(&gt;F) &lt;dbl&gt; |\n",
       "|---|---|---|---|---|---|\n",
       "| X1 |  1 | 128.81130 | 128.811299 | 26.690619 | 9.372664e-05 |\n",
       "| X2 |  1 |  75.47827 |  75.478267 | 15.639634 | 1.135205e-03 |\n",
       "| X3 |  1 |  18.69301 |  18.693011 |  3.873325 | 6.663861e-02 |\n",
       "| Residuals | 16 |  77.21742 |   4.826089 |        NA |           NA |\n",
       "\n"
      ],
      "text/plain": [
       "          Df Sum Sq    Mean Sq    F value   Pr(>F)      \n",
       "X1         1 128.81130 128.811299 26.690619 9.372664e-05\n",
       "X2         1  75.47827  75.478267 15.639634 1.135205e-03\n",
       "X3         1  18.69301  18.693011  3.873325 6.663861e-02\n",
       "Residuals 16  77.21742   4.826089        NA           NA"
      ]
     },
     "metadata": {},
     "output_type": "display_data"
    }
   ],
   "source": [
    "# f. Uji pengaruh variabel independen terhadap variabel dependen secara bersama-sama\n",
    "cat(\"\\nUji Pengaruh Variabel Independen Secara Bersama-sama:\\n\")\n",
    "anova(model)"
   ]
  },
  {
   "cell_type": "code",
   "execution_count": 10,
   "metadata": {
    "vscode": {
     "languageId": "r"
    }
   },
   "outputs": [
    {
     "name": "stdout",
     "output_type": "stream",
     "text": [
      "\n",
      "Uji Signifikansi Masing-Masing Variabel Independen:\n"
     ]
    },
    {
     "data": {
      "text/html": [
       "<table class=\"dataframe\">\n",
       "<caption>A matrix: 4 × 4 of type dbl</caption>\n",
       "<thead>\n",
       "\t<tr><th></th><th scope=col>Estimate</th><th scope=col>Std. Error</th><th scope=col>t value</th><th scope=col>Pr(&gt;|t|)</th></tr>\n",
       "</thead>\n",
       "<tbody>\n",
       "\t<tr><th scope=row>(Intercept)</th><td>14.8158895</td><td>5.75861075</td><td>2.5728236</td><td>0.02043704</td></tr>\n",
       "\t<tr><th scope=row>X1</th><td> 0.1577167</td><td>0.17644226</td><td>0.8938717</td><td>0.38463926</td></tr>\n",
       "\t<tr><th scope=row>X2</th><td> 0.3221042</td><td>0.14983402</td><td>2.1497402</td><td>0.04721578</td></tr>\n",
       "\t<tr><th scope=row>X3</th><td> 0.1599647</td><td>0.08127972</td><td>1.9680765</td><td>0.06663861</td></tr>\n",
       "</tbody>\n",
       "</table>\n"
      ],
      "text/latex": [
       "A matrix: 4 × 4 of type dbl\n",
       "\\begin{tabular}{r|llll}\n",
       "  & Estimate & Std. Error & t value & Pr(>\\textbar{}t\\textbar{})\\\\\n",
       "\\hline\n",
       "\t(Intercept) & 14.8158895 & 5.75861075 & 2.5728236 & 0.02043704\\\\\n",
       "\tX1 &  0.1577167 & 0.17644226 & 0.8938717 & 0.38463926\\\\\n",
       "\tX2 &  0.3221042 & 0.14983402 & 2.1497402 & 0.04721578\\\\\n",
       "\tX3 &  0.1599647 & 0.08127972 & 1.9680765 & 0.06663861\\\\\n",
       "\\end{tabular}\n"
      ],
      "text/markdown": [
       "\n",
       "A matrix: 4 × 4 of type dbl\n",
       "\n",
       "| <!--/--> | Estimate | Std. Error | t value | Pr(&gt;|t|) |\n",
       "|---|---|---|---|---|\n",
       "| (Intercept) | 14.8158895 | 5.75861075 | 2.5728236 | 0.02043704 |\n",
       "| X1 |  0.1577167 | 0.17644226 | 0.8938717 | 0.38463926 |\n",
       "| X2 |  0.3221042 | 0.14983402 | 2.1497402 | 0.04721578 |\n",
       "| X3 |  0.1599647 | 0.08127972 | 1.9680765 | 0.06663861 |\n",
       "\n"
      ],
      "text/plain": [
       "            Estimate   Std. Error t value   Pr(>|t|)  \n",
       "(Intercept) 14.8158895 5.75861075 2.5728236 0.02043704\n",
       "X1           0.1577167 0.17644226 0.8938717 0.38463926\n",
       "X2           0.3221042 0.14983402 2.1497402 0.04721578\n",
       "X3           0.1599647 0.08127972 1.9680765 0.06663861"
      ]
     },
     "metadata": {},
     "output_type": "display_data"
    }
   ],
   "source": [
    "# g. Uji signifikansi masing-masing variabel independen\n",
    "cat(\"\\nUji Signifikansi Masing-Masing Variabel Independen:\\n\")\n",
    "summary(model)$coefficients"
   ]
  }
 ],
 "metadata": {
  "kernelspec": {
   "display_name": "R",
   "language": "R",
   "name": "ir"
  },
  "language_info": {
   "codemirror_mode": "r",
   "file_extension": ".r",
   "mimetype": "text/x-r-source",
   "name": "R",
   "pygments_lexer": "r",
   "version": "4.4.2"
  }
 },
 "nbformat": 4,
 "nbformat_minor": 2
}
