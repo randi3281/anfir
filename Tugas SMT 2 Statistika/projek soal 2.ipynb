{
 "cells": [
  {
   "cell_type": "markdown",
   "metadata": {},
   "source": [
    "# Soal 2"
   ]
  },
  {
   "cell_type": "code",
   "execution_count": 1,
   "metadata": {
    "vscode": {
     "languageId": "r"
    }
   },
   "outputs": [],
   "source": [
    "if (!requireNamespace(\"ggplot2\", quietly = TRUE)) {\n",
    "  install.packages(\"ggplot2\", repos = \"https://cloud.r-project.org/\")\n",
    "}"
   ]
  },
  {
   "cell_type": "code",
   "execution_count": 2,
   "metadata": {
    "vscode": {
     "languageId": "r"
    }
   },
   "outputs": [],
   "source": [
    "# Memuat library yang dibutuhkan\n",
    "library(ggplot2)"
   ]
  },
  {
   "cell_type": "code",
   "execution_count": 3,
   "metadata": {
    "vscode": {
     "languageId": "r"
    }
   },
   "outputs": [
    {
     "name": "stdout",
     "output_type": "stream",
     "text": [
      "   Perawat Sebelum Sesudah\n",
      "1        1       8       6\n",
      "2        2       9       8\n",
      "3        3       9       8\n",
      "4        4      11       9\n",
      "5        5      10      10\n",
      "6        6       9       8\n",
      "7        7       7       6\n",
      "8        8       8       9\n",
      "9        9      11      10\n",
      "10      10      10       9\n"
     ]
    }
   ],
   "source": [
    "# Memuat data dari file CSV\n",
    "data <- read.csv(\"DATA SOAL 2.csv\", sep = \";\")\n",
    "\n",
    "# Menampilkan data untuk memastikan data terbaca dengan benar\n",
    "print(data)"
   ]
  },
  {
   "cell_type": "code",
   "execution_count": 4,
   "metadata": {
    "vscode": {
     "languageId": "r"
    }
   },
   "outputs": [
    {
     "name": "stdout",
     "output_type": "stream",
     "text": [
      "Uji Normalitas:\n",
      "\n",
      "Sebelum Pelatihan:\n"
     ]
    },
    {
     "name": "stdout",
     "output_type": "stream",
     "text": [
      "\n",
      "\tShapiro-Wilk normality test\n",
      "\n",
      "data:  data$Sebelum\n",
      "W = 0.94191, p-value = 0.5745\n",
      "\n",
      "\n",
      "Sesudah Pelatihan:\n",
      "\n",
      "\tShapiro-Wilk normality test\n",
      "\n",
      "data:  data$Sesudah\n",
      "W = 0.87867, p-value = 0.126\n",
      "\n"
     ]
    }
   ],
   "source": [
    "# 1. Uji Normalitas untuk Data \"Sebelum\" dan \"Sesudah\" menggunakan Shapiro-Wilk Test\n",
    "cat(\"Uji Normalitas:\\n\")\n",
    "\n",
    "# Uji normalitas untuk data sebelum pelatihan\n",
    "cat(\"\\nSebelum Pelatihan:\\n\")\n",
    "shapiro_test_sebelum <- shapiro.test(data$Sebelum)\n",
    "print(shapiro_test_sebelum)\n",
    "\n",
    "# Uji normalitas untuk data setelah pelatihan\n",
    "cat(\"\\nSesudah Pelatihan:\\n\")\n",
    "shapiro_test_sesudah <- shapiro.test(data$Sesudah)\n",
    "print(shapiro_test_sesudah)"
   ]
  },
  {
   "cell_type": "code",
   "execution_count": 5,
   "metadata": {
    "vscode": {
     "languageId": "r"
    }
   },
   "outputs": [
    {
     "name": "stdout",
     "output_type": "stream",
     "text": [
      "\n",
      "Uji Perbedaan Kecepatan Memasang Infus:\n",
      "\n",
      "\tPaired t-test\n",
      "\n",
      "data:  data$Sebelum and data$Sesudah\n",
      "t = 3.2504, df = 9, p-value = 0.009991\n",
      "alternative hypothesis: true mean difference is not equal to 0\n",
      "95 percent confidence interval:\n",
      " 0.273637 1.526363\n",
      "sample estimates:\n",
      "mean difference \n",
      "            0.9 \n",
      "\n"
     ]
    }
   ],
   "source": [
    "# 2. Uji Perbedaan Kecepatan (Uji t Sampel Berpasangan)\n",
    "cat(\"\\nUji Perbedaan Kecepatan Memasang Infus:\\n\")\n",
    "\n",
    "# Uji t untuk sampel berpasangan (Paired T-test)\n",
    "t_test_result <- t.test(data$Sebelum, data$Sesudah, paired = TRUE)\n",
    "\n",
    "# Menampilkan hasil uji t\n",
    "print(t_test_result)"
   ]
  }
 ],
 "metadata": {
  "kernelspec": {
   "display_name": "R",
   "language": "R",
   "name": "ir"
  },
  "language_info": {
   "codemirror_mode": "r",
   "file_extension": ".r",
   "mimetype": "text/x-r-source",
   "name": "R",
   "pygments_lexer": "r",
   "version": "4.4.2"
  }
 },
 "nbformat": 4,
 "nbformat_minor": 2
}
